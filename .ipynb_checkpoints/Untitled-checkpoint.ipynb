{
 "cells": [
  {
   "cell_type": "markdown",
   "id": "20b517e1",
   "metadata": {},
   "source": [
    "# Python Sololearn\n",
    "\n",
    "### TODO (Intro):\n",
    "\n",
    "- It's for the practice...okay"
   ]
  },
  {
   "cell_type": "code",
   "execution_count": 1,
   "id": "f3f1507a",
   "metadata": {},
   "outputs": [
    {
     "name": "stdout",
     "output_type": "stream",
     "text": [
      "hello world\n"
     ]
    }
   ],
   "source": [
    "print(\"hello world\")"
   ]
  },
  {
   "cell_type": "code",
   "execution_count": 5,
   "id": "d195b472",
   "metadata": {},
   "outputs": [],
   "source": [
    "# 2+2 addition\n",
    "# 2-2 subtraction\n",
    "# 2/2 division (type = \"float\")\n",
    "# 2//2 multiply (type = \"integer\")\n",
    "# 2//2 quotient (type = \"integer\")\n",
    "# 2%2 remainder (type = \"integer\")\n",
    "# 2**2 exponential (type = \"integer\")"
   ]
  },
  {
   "cell_type": "code",
   "execution_count": 8,
   "id": "a99e27c3",
   "metadata": {},
   "outputs": [
    {
     "name": "stdout",
     "output_type": "stream",
     "text": [
      "' Know your enemy know yourself and you wll not be defeated in a 100 battles ' \n",
      " \t- Suntzu \n"
     ]
    }
   ],
   "source": [
    "# \"This is string\" \n",
    "# \\ allow the next element to be a part of string (usefull to print quotes)\n",
    "# \\n - new line,  \\t- to add tab space\n",
    "# \"\"\" to print\n",
    "#  a multi line text \"\"\"\n",
    "print(\"\\' Know your enemy know yourself and you wll not be defeated in a 100 battles \\' \\n \\t- Suntzu \")"
   ]
  },
  {
   "cell_type": "code",
   "execution_count": null,
   "id": "a70b7384",
   "metadata": {},
   "outputs": [],
   "source": [
    "# int() ----> to convert string to integer\n",
    "# str() ----> to convert integer to string\n",
    "# float()"
   ]
  },
  {
   "cell_type": "markdown",
   "id": "0a9a439e",
   "metadata": {},
   "source": [
    "### Input\n"
   ]
  },
  {
   "cell_type": "markdown",
   "id": "ce79cff0",
   "metadata": {},
   "source": [
    "- To take normal input n store in variable"
   ]
  },
  {
   "cell_type": "code",
   "execution_count": 9,
   "id": "fca0281a",
   "metadata": {},
   "outputs": [
    {
     "name": "stdout",
     "output_type": "stream",
     "text": [
      "q\n",
      "q\n"
     ]
    }
   ],
   "source": [
    "x = input() \n",
    "print(x)"
   ]
  },
  {
   "cell_type": "markdown",
   "id": "fff4254c",
   "metadata": {},
   "source": [
    "- to obltain list from a string of numbers \n",
    "ex: \"1 2 3 4 5 6 7 8 9\"\n",
    "\n",
    "    and conver them into integer at the same time"
   ]
  },
  {
   "cell_type": "code",
   "execution_count": 12,
   "id": "3583bca9",
   "metadata": {},
   "outputs": [
    {
     "name": "stdout",
     "output_type": "stream",
     "text": [
      "1 2 3 4 5 6 7 8 9\n",
      "[1, 2, 3, 4, 5, 6, 7, 8, 9]\n"
     ]
    }
   ],
   "source": [
    "y = list(map(int,input().split()))\n",
    "print(y)"
   ]
  },
  {
   "cell_type": "code",
   "execution_count": 13,
   "id": "22681fce",
   "metadata": {},
   "outputs": [],
   "source": [
    "# x+=3 ===> x=x+3\n",
    "# x=+3 ===> x=x+3"
   ]
  },
  {
   "cell_type": "markdown",
   "id": "69d19ac4",
   "metadata": {},
   "source": []
  },
  {
   "cell_type": "code",
   "execution_count": null,
   "id": "54d6a5c1",
   "metadata": {},
   "outputs": [],
   "source": []
  }
 ],
 "metadata": {
  "kernelspec": {
   "display_name": "Python 3",
   "language": "python",
   "name": "python3"
  },
  "language_info": {
   "codemirror_mode": {
    "name": "ipython",
    "version": 3
   },
   "file_extension": ".py",
   "mimetype": "text/x-python",
   "name": "python",
   "nbconvert_exporter": "python",
   "pygments_lexer": "ipython3",
   "version": "3.8.8"
  }
 },
 "nbformat": 4,
 "nbformat_minor": 5
}
