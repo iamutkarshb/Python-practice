{
 "cells": [
  {
   "cell_type": "markdown",
   "id": "5a41ead8",
   "metadata": {},
   "source": [
    "# Python Sololearn\n",
    "\n",
    "### TODO (Intro):\n",
    "\n",
    "- It's for the practice...okay"
   ]
  },
  {
   "cell_type": "code",
   "execution_count": 1,
   "id": "674d556b",
   "metadata": {},
   "outputs": [
    {
     "name": "stdout",
     "output_type": "stream",
     "text": [
      "hello world\n"
     ]
    }
   ],
   "source": [
    "print(\"hello world\")"
   ]
  },
  {
   "cell_type": "code",
   "execution_count": null,
   "id": "3ba4b9bf",
   "metadata": {},
   "outputs": [],
   "source": []
  }
 ],
 "metadata": {
  "kernelspec": {
   "display_name": "Python 3",
   "language": "python",
   "name": "python3"
  },
  "language_info": {
   "codemirror_mode": {
    "name": "ipython",
    "version": 3
   },
   "file_extension": ".py",
   "mimetype": "text/x-python",
   "name": "python",
   "nbconvert_exporter": "python",
   "pygments_lexer": "ipython3",
   "version": "3.8.8"
  }
 },
 "nbformat": 4,
 "nbformat_minor": 5
}
