{
 "cells": [
  {
   "cell_type": "markdown",
   "id": "f94a46dd",
   "metadata": {},
   "source": [
    "# Python Sololearn\n",
    "\n",
    "### TODO (Intro):\n",
    "\n",
    "- It's for the practice...okay"
   ]
  },
  {
   "cell_type": "code",
   "execution_count": 1,
   "id": "4100312c",
   "metadata": {},
   "outputs": [
    {
     "name": "stdout",
     "output_type": "stream",
     "text": [
      "hello world\n"
     ]
    }
   ],
   "source": [
    "print(\"hello world\")"
   ]
  },
  {
   "cell_type": "code",
   "execution_count": 5,
   "id": "ffb8385e",
   "metadata": {},
   "outputs": [],
   "source": [
    "# 2+2 addition\n",
    "# 2-2 subtraction\n",
    "# 2/2 division (type = \"float\")\n",
    "# 2//2 multiply (type = \"integer\")\n",
    "# 2//2 quotient (type = \"integer\")\n",
    "# 2%2 remainder (type = \"integer\")\n",
    "# 2**2 exponential (type = \"integer\")"
   ]
  },
  {
   "cell_type": "code",
   "execution_count": 8,
   "id": "f6e5a319",
   "metadata": {},
   "outputs": [
    {
     "name": "stdout",
     "output_type": "stream",
     "text": [
      "' Know your enemy know yourself and you wll not be defeated in a 100 battles ' \n",
      " \t- Suntzu \n"
     ]
    }
   ],
   "source": [
    "# \"This is string\" \n",
    "# \\ allow the next element to be a part of string (usefull to print quotes)\n",
    "# \\n - new line,  \\t- to add tab space\n",
    "# \"\"\" to print\n",
    "#  a multi line text \"\"\"\n",
    "print(\"\\' Know your enemy know yourself and you wll not be defeated in a 100 battles \\' \\n \\t- Suntzu \")"
   ]
  },
  {
   "cell_type": "code",
   "execution_count": null,
   "id": "dee5dad5",
   "metadata": {},
   "outputs": [],
   "source": [
    "# int() ----> to convert string to integer\n",
    "# str() ----> to convert integer to string\n",
    "# float()"
   ]
  },
  {
   "cell_type": "markdown",
   "id": "029fbb5d",
   "metadata": {},
   "source": [
    "### Input\n"
   ]
  },
  {
   "cell_type": "markdown",
   "id": "6f9840cc",
   "metadata": {},
   "source": [
    "- To take normal input n store in variable"
   ]
  },
  {
   "cell_type": "code",
   "execution_count": 9,
   "id": "cb4aecbb",
   "metadata": {},
   "outputs": [
    {
     "name": "stdout",
     "output_type": "stream",
     "text": [
      "q\n",
      "q\n"
     ]
    }
   ],
   "source": [
    "x = input() \n",
    "print(x)"
   ]
  },
  {
   "cell_type": "markdown",
   "id": "0c25f215",
   "metadata": {},
   "source": [
    "- to obltain list from a string of numbers \n",
    "ex: \"1 2 3 4 5 6 7 8 9\"\n",
    "\n",
    "    and conver them into integer at the same time"
   ]
  },
  {
   "cell_type": "code",
   "execution_count": 12,
   "id": "48944f6a",
   "metadata": {},
   "outputs": [
    {
     "name": "stdout",
     "output_type": "stream",
     "text": [
      "1 2 3 4 5 6 7 8 9\n",
      "[1, 2, 3, 4, 5, 6, 7, 8, 9]\n"
     ]
    }
   ],
   "source": [
    "y = list(map(int,input().split()))\n",
    "print(y)"
   ]
  },
  {
   "cell_type": "code",
   "execution_count": 13,
   "id": "87c3231b",
   "metadata": {},
   "outputs": [],
   "source": [
    "# x+=3 ===> x=x+3\n",
    "# x=+3 ===> x=x+3"
   ]
  },
  {
   "cell_type": "markdown",
   "id": "128b92a5",
   "metadata": {},
   "source": [
    "### boolean logic:\n",
    "   - 1==1 and 2==2\n",
    "   - 1==1 or 2==2\n",
    "   - not 1==1"
   ]
  },
  {
   "cell_type": "code",
   "execution_count": 16,
   "id": "80dd929c",
   "metadata": {},
   "outputs": [
    {
     "name": "stdout",
     "output_type": "stream",
     "text": [
      "True\n",
      "True\n",
      "False\n"
     ]
    }
   ],
   "source": [
    "print(1==1 and 2==2)\n",
    "print(1==1 or 1==2)\n",
    "print(not 1==1)"
   ]
  },
  {
   "cell_type": "markdown",
   "id": "feedfff8",
   "metadata": {},
   "source": [
    "### Else-if"
   ]
  },
  {
   "cell_type": "code",
   "execution_count": 17,
   "id": "fed3dfbc",
   "metadata": {},
   "outputs": [
    {
     "name": "stdout",
     "output_type": "stream",
     "text": [
      "three\n"
     ]
    }
   ],
   "source": [
    "num = 3\n",
    "if num == 1:\n",
    "    print(\"one\")\n",
    "elif num == 3:\n",
    "    print(\"three\")\n",
    "else:\n",
    "    print(num )"
   ]
  },
  {
   "cell_type": "markdown",
   "id": "0fdca251",
   "metadata": {},
   "source": [
    "### List"
   ]
  },
  {
   "cell_type": "code",
   "execution_count": 18,
   "id": "680bec02",
   "metadata": {},
   "outputs": [],
   "source": [
    "# 23.1 lesson"
   ]
  }
 ],
 "metadata": {
  "kernelspec": {
   "display_name": "Python 3",
   "language": "python",
   "name": "python3"
  },
  "language_info": {
   "codemirror_mode": {
    "name": "ipython",
    "version": 3
   },
   "file_extension": ".py",
   "mimetype": "text/x-python",
   "name": "python",
   "nbconvert_exporter": "python",
   "pygments_lexer": "ipython3",
   "version": "3.8.8"
  }
 },
 "nbformat": 4,
 "nbformat_minor": 5
}
