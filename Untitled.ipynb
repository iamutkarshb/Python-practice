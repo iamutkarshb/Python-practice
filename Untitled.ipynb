{
 "cells": [
  {
   "cell_type": "markdown",
   "id": "2d4e7125",
   "metadata": {},
   "source": [
    "# Python Sololearn\n",
    "\n",
    "### TODO (Intro):\n",
    "\n",
    "- It's for the practice...okay"
   ]
  },
  {
   "cell_type": "code",
   "execution_count": 1,
   "id": "b79d3c01",
   "metadata": {},
   "outputs": [
    {
     "name": "stdout",
     "output_type": "stream",
     "text": [
      "hello world\n"
     ]
    }
   ],
   "source": [
    "print(\"hello world\")"
   ]
  },
  {
   "cell_type": "code",
   "execution_count": 5,
   "id": "e8fa1b53",
   "metadata": {},
   "outputs": [],
   "source": [
    "# 2+2 addition\n",
    "# 2-2 subtraction\n",
    "# 2/2 division (type = \"float\")\n",
    "# 2//2 multiply (type = \"integer\")\n",
    "# 2//2 quotient (type = \"integer\")\n",
    "# 2%2 remainder (type = \"integer\")\n",
    "# 2**2 exponential (type = \"integer\")"
   ]
  },
  {
   "cell_type": "code",
   "execution_count": 8,
   "id": "c912958d",
   "metadata": {},
   "outputs": [
    {
     "name": "stdout",
     "output_type": "stream",
     "text": [
      "' Know your enemy know yourself and you wll not be defeated in a 100 battles ' \n",
      " \t- Suntzu \n"
     ]
    }
   ],
   "source": [
    "# \"This is string\" \n",
    "# \\ allow the next element to be a part of string (usefull to print quotes)\n",
    "# \\n - new line,  \\t- to add tab space\n",
    "# \"\"\" to print\n",
    "#  a multi line text \"\"\"\n",
    "print(\"\\' Know your enemy know yourself and you wll not be defeated in a 100 battles \\' \\n \\t- Suntzu \")"
   ]
  },
  {
   "cell_type": "code",
   "execution_count": null,
   "id": "61b8362f",
   "metadata": {},
   "outputs": [],
   "source": [
    "# int() ----> to convert string to integer\n",
    "# str() ----> to convert integer to string\n",
    "# float()"
   ]
  },
  {
   "cell_type": "markdown",
   "id": "3f54efa6",
   "metadata": {},
   "source": [
    "### Input\n"
   ]
  },
  {
   "cell_type": "markdown",
   "id": "98e7d0f5",
   "metadata": {},
   "source": [
    "- To take normal input n store in variable"
   ]
  },
  {
   "cell_type": "code",
   "execution_count": 9,
   "id": "fa750a52",
   "metadata": {},
   "outputs": [
    {
     "name": "stdout",
     "output_type": "stream",
     "text": [
      "q\n",
      "q\n"
     ]
    }
   ],
   "source": [
    "x = input() \n",
    "print(x)"
   ]
  },
  {
   "cell_type": "markdown",
   "id": "78a542c7",
   "metadata": {},
   "source": [
    "- to obltain list from a string of numbers \n",
    "ex: \"1 2 3 4 5 6 7 8 9\"\n",
    "\n",
    "    and conver them into integer at the same time"
   ]
  },
  {
   "cell_type": "code",
   "execution_count": 12,
   "id": "080e167c",
   "metadata": {},
   "outputs": [
    {
     "name": "stdout",
     "output_type": "stream",
     "text": [
      "1 2 3 4 5 6 7 8 9\n",
      "[1, 2, 3, 4, 5, 6, 7, 8, 9]\n"
     ]
    }
   ],
   "source": [
    "y = list(map(int,input().split()))\n",
    "print(y)"
   ]
  },
  {
   "cell_type": "code",
   "execution_count": 13,
   "id": "9e13f21b",
   "metadata": {},
   "outputs": [],
   "source": [
    "# x+=3 ===> x=x+3\n",
    "# x=+3 ===> x=x+3"
   ]
  },
  {
   "cell_type": "markdown",
   "id": "451d7b39",
   "metadata": {},
   "source": [
    "# loops\n",
    "-- boolean --> true n false\n",
    "\n",
    "-- loops --> For, While, If-else"
   ]
  },
  {
   "cell_type": "code",
   "execution_count": null,
   "id": "cc8ba8b1",
   "metadata": {},
   "outputs": [],
   "source": [
    "if 10 > 5:\n",
    "    print(\"10 is greater than 5\")\n",
    "else:"
   ]
  }
 ],
 "metadata": {
  "kernelspec": {
   "display_name": "Python 3",
   "language": "python",
   "name": "python3"
  },
  "language_info": {
   "codemirror_mode": {
    "name": "ipython",
    "version": 3
   },
   "file_extension": ".py",
   "mimetype": "text/x-python",
   "name": "python",
   "nbconvert_exporter": "python",
   "pygments_lexer": "ipython3",
   "version": "3.8.8"
  }
 },
 "nbformat": 4,
 "nbformat_minor": 5
}
